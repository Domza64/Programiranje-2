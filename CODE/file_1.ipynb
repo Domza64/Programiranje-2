{
 "cells": [
  {
   "cell_type": "code",
   "execution_count": 3,
   "metadata": {},
   "outputs": [
    {
     "name": "stdout",
     "output_type": "stream",
     "text": [
      "Rjesenje: 20\n",
      "<class 'list'>\n"
     ]
    }
   ],
   "source": [
    "a = 10\n",
    "b = 2\n",
    "\n",
    "c = a * b\n",
    "\n",
    "print(f\"Rjesenje: {c}\")\n",
    "\n",
    "d = [1, 3, 5]\n",
    "print(type(d))"
   ]
  },
  {
   "cell_type": "code",
   "execution_count": null,
   "metadata": {},
   "outputs": [
    {
     "name": "stdout",
     "output_type": "stream",
     "text": [
      "Element: 3, tip: <class 'type'>\n",
      "Element: asd, tip: <class 'type'>\n",
      "Element: 4.6, tip: <class 'type'>\n",
      "Element: 4, tip: <class 'type'>\n",
      "Element: True, tip: <class 'type'>\n",
      "Element: asdsadd, tip: <class 'type'>\n"
     ]
    }
   ],
   "source": [
    "lista = [3, \"asd\", 4.6, 4, True, \"asdsadd\"]\n",
    "\n",
    "for el in lista:\n",
    "    print(f\"Element: {el}, tip: {type(el)}\")\n"
   ]
  },
  {
   "cell_type": "code",
   "execution_count": null,
   "metadata": {},
   "outputs": [
    {
     "name": "stdout",
     "output_type": "stream",
     "text": [
      "UTF CODE: 0x45\n"
     ]
    }
   ],
   "source": [
    "txt = \"E\"\n",
    "\n",
    "for ch in txt:\n",
    "    utf8str = ch.encode('utf-8')\n",
    "    print(f\"UTF-8 hex code: {hex(ord(utf8str))}\")"
   ]
  }
 ],
 "metadata": {
  "kernelspec": {
   "display_name": "Python 3",
   "language": "python",
   "name": "python3"
  },
  "language_info": {
   "codemirror_mode": {
    "name": "ipython",
    "version": 3
   },
   "file_extension": ".py",
   "mimetype": "text/x-python",
   "name": "python",
   "nbconvert_exporter": "python",
   "pygments_lexer": "ipython3",
   "version": "3.13.1"
  }
 },
 "nbformat": 4,
 "nbformat_minor": 2
}
