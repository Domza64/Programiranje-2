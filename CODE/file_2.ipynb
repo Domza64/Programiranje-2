{
 "cells": [
  {
   "cell_type": "code",
   "execution_count": 3,
   "metadata": {},
   "outputs": [],
   "source": [
    "def print_list_elements(lst:list):\n",
    "    for el in lst:\n",
    "        print(f\"{type(el)}: {el}\")"
   ]
  },
  {
   "cell_type": "code",
   "execution_count": 4,
   "metadata": {},
   "outputs": [
    {
     "name": "stdout",
     "output_type": "stream",
     "text": [
      "<class 'int'>: 2\n",
      "<class 'int'>: 5\n",
      "<class 'int'>: 7\n",
      "<class 'int'>: 8\n"
     ]
    }
   ],
   "source": [
    "print_list_elements([2, 5, 7, 8])"
   ]
  },
  {
   "cell_type": "code",
   "execution_count": 8,
   "metadata": {},
   "outputs": [
    {
     "name": "stdout",
     "output_type": "stream",
     "text": [
      "['O', 'o', 'e', 'e', 'e', 'i', 'a']\n"
     ]
    }
   ],
   "source": [
    "voc = ['a', 'e', 'i', 'o', 'u']\n",
    "\n",
    "def check_vocals(rijec):\n",
    "    lst = list()\n",
    "    for ch in rijec:\n",
    "        if ch.lower() in voc:\n",
    "            lst.append(ch)\n",
    "    return lst\n",
    "\n",
    "print(check_vocals(\"Ovo je recenica.\"))"
   ]
  }
 ],
 "metadata": {
  "kernelspec": {
   "display_name": "Python 3",
   "language": "python",
   "name": "python3"
  },
  "language_info": {
   "codemirror_mode": {
    "name": "ipython",
    "version": 3
   },
   "file_extension": ".py",
   "mimetype": "text/x-python",
   "name": "python",
   "nbconvert_exporter": "python",
   "pygments_lexer": "ipython3",
   "version": "3.13.2"
  }
 },
 "nbformat": 4,
 "nbformat_minor": 2
}
