{
 "cells": [
  {
   "cell_type": "code",
   "execution_count": 2,
   "metadata": {},
   "outputs": [
    {
     "name": "stdout",
     "output_type": "stream",
     "text": [
      "<class 'dict'>\n"
     ]
    }
   ],
   "source": [
    "empty_d = {}\n",
    "print(type(empty_d))"
   ]
  },
  {
   "cell_type": "code",
   "execution_count": 3,
   "metadata": {},
   "outputs": [
    {
     "name": "stdout",
     "output_type": "stream",
     "text": [
      "{'key_1': 'Some simple string'}\n"
     ]
    }
   ],
   "source": [
    "empty_d[\"key_1\"] = \"Some simple string\"\n",
    "print(empty_d)"
   ]
  },
  {
   "cell_type": "code",
   "execution_count": null,
   "metadata": {},
   "outputs": [],
   "source": [
    "empty_d[\"number\"] = 12.56\n",
    "print(empty_d)"
   ]
  },
  {
   "cell_type": "code",
   "execution_count": 6,
   "metadata": {},
   "outputs": [
    {
     "name": "stdout",
     "output_type": "stream",
     "text": [
      "dict_keys(['key_1', 'key_2', 'key_3'])\n",
      "dict_values(['value_1', 43, False])\n"
     ]
    }
   ],
   "source": [
    "new_dictionary = {\"key_1\": \"value_1\", \"key_2\": 43, \"key_3\": False}\n",
    "\n",
    "print(new_dictionary.keys())\n",
    "print(new_dictionary.values())"
   ]
  },
  {
   "cell_type": "code",
   "execution_count": 10,
   "metadata": {},
   "outputs": [
    {
     "name": "stdout",
     "output_type": "stream",
     "text": [
      "key_1 -> value_1\n",
      "key_2 -> 43\n",
      "key_3 -> False\n"
     ]
    }
   ],
   "source": [
    "for k in new_dictionary.keys():\n",
    "    print(f\"{k} -> {new_dictionary.get(k)}\")"
   ]
  },
  {
   "cell_type": "code",
   "execution_count": 11,
   "metadata": {},
   "outputs": [
    {
     "name": "stdout",
     "output_type": "stream",
     "text": [
      "value_1\n",
      "43\n",
      "False\n"
     ]
    }
   ],
   "source": [
    "for val in new_dictionary.values():\n",
    "    print(val)"
   ]
  },
  {
   "cell_type": "code",
   "execution_count": 12,
   "metadata": {},
   "outputs": [
    {
     "name": "stdout",
     "output_type": "stream",
     "text": [
      "key_1: value_1\n",
      "key_2: 43\n",
      "key_3: False\n"
     ]
    }
   ],
   "source": [
    "for key, val in new_dictionary.items():\n",
    "    print(f\"{key}: {val}\")"
   ]
  },
  {
   "cell_type": "code",
   "execution_count": 26,
   "metadata": {},
   "outputs": [],
   "source": [
    "text = \"To be or not - , to be, there question os now!!\""
   ]
  },
  {
   "cell_type": "code",
   "execution_count": null,
   "metadata": {},
   "outputs": [],
   "source": [
    "def process_string_list(lst: list, strip_this: str = \",.\") -> list:\n",
    "    \"\"\"\n",
    "    function that cleans words (string) in a list and returns a cleaned list\n",
    "\n",
    "    input:\n",
    "        lst - list of strings\n",
    "\n",
    "    output:\n",
    "        cleaned list of strings\n",
    "    \"\"\"\n",
    "    cleaned_lst = []\n",
    "    for wrd in lst:\n",
    "        wrd = wrd.strip(strip_this).lower()\n",
    "        if len(wrd) > 0:\n",
    "            cleaned_lst.append(wrd)\n",
    "    return cleaned_lst\n",
    "\n",
    "def process_string_list_better(lst: list, strip_this: str = \",.\") -> list:\n",
    "    return [wrd.strip(strip_this).lower() for wrd in lst if len(wrd.strip(strip_this)) > 0]\n"
   ]
  },
  {
   "cell_type": "code",
   "execution_count": 36,
   "metadata": {},
   "outputs": [
    {
     "name": "stdout",
     "output_type": "stream",
     "text": [
      "{'to': 2, 'be': 2, 'or': 1, 'not': 1, 'there': 1, 'question': 1, 'os': 1, 'now': 1}\n"
     ]
    }
   ],
   "source": [
    "processed_list = process_string_list(text.split(), \".,!?-\")\n",
    "# print(processed_list)\n",
    "\n",
    "wrd_counter = dict()\n",
    "for rijec in processed_list:\n",
    "    if rijec in wrd_counter:\n",
    "        wrd_counter[rijec] += 1\n",
    "    else:\n",
    "        wrd_counter[rijec] = 1\n",
    "\n",
    "print(wrd_counter)"
   ]
  }
 ],
 "metadata": {
  "kernelspec": {
   "display_name": "Python 3",
   "language": "python",
   "name": "python3"
  },
  "language_info": {
   "codemirror_mode": {
    "name": "ipython",
    "version": 3
   },
   "file_extension": ".py",
   "mimetype": "text/x-python",
   "name": "python",
   "nbconvert_exporter": "python",
   "pygments_lexer": "ipython3",
   "version": "3.13.2"
  }
 },
 "nbformat": 4,
 "nbformat_minor": 2
}
