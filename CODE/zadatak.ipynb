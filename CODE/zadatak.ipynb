{
 "cells": [
  {
   "cell_type": "code",
   "execution_count": 11,
   "metadata": {},
   "outputs": [],
   "source": [
    "courses = [(\"Bob\" ,[\"chemistry\", \"CS\", \"Math\"]), (\"Cage\", [\"Math\", \"CS\"]), (\"Marina\", [\"chemistry\", \"Math\"])]"
   ]
  },
  {
   "cell_type": "markdown",
   "metadata": {},
   "source": [
    "# Problem 1\n",
    "\n",
    "Create a function that will list types of a tuples in the input list."
   ]
  },
  {
   "cell_type": "code",
   "execution_count": null,
   "metadata": {},
   "outputs": [
    {
     "name": "stdout",
     "output_type": "stream",
     "text": [
      "Student: <class 'str'>, Courses: <class 'list'>\n",
      "Student: <class 'str'>, Courses: <class 'list'>\n",
      "Student: <class 'str'>, Courses: <class 'list'>\n"
     ]
    }
   ],
   "source": [
    "def print_types(students: list):\n",
    "    for student, courses in students:\n",
    "        print(f\"Student: {type(student)}, Courses: {type(courses)}\")\n",
    "\n",
    "print_types(courses)"
   ]
  },
  {
   "cell_type": "markdown",
   "metadata": {},
   "source": [
    "# Problem 2\n",
    "\n",
    "Za svaki predmet ispisati koji studenti su upisali taj predmet"
   ]
  },
  {
   "cell_type": "code",
   "execution_count": null,
   "metadata": {},
   "outputs": [
    {
     "name": "stdout",
     "output_type": "stream",
     "text": [
      "{'chemistry': ['Bob', 'Marina'], 'CS': ['Bob', 'Cage'], 'Math': ['Bob', 'Cage', 'Marina']}\n"
     ]
    }
   ],
   "source": [
    "def courses_dict_from_students_list(students: list) -> dict:\n",
    "    courses_dict = dict()\n",
    "\n",
    "    for name, courses in students:\n",
    "        for course in courses:\n",
    "            if course not in courses_dict:\n",
    "                courses_dict[course] = [name]\n",
    "            else:\n",
    "                courses_dict[course].append(name)\n",
    "\n",
    "    return courses_dict\n",
    "\n",
    "print(courses_dict_from_students_list(courses))"
   ]
  }
 ],
 "metadata": {
  "kernelspec": {
   "display_name": "Python 3",
   "language": "python",
   "name": "python3"
  },
  "language_info": {
   "codemirror_mode": {
    "name": "ipython",
    "version": 3
   },
   "file_extension": ".py",
   "mimetype": "text/x-python",
   "name": "python",
   "nbconvert_exporter": "python",
   "pygments_lexer": "ipython3",
   "version": "3.13.2"
  }
 },
 "nbformat": 4,
 "nbformat_minor": 2
}
