{
 "cells": [
  {
   "cell_type": "code",
   "execution_count": 1,
   "id": "65827633-3a0f-4a97-806c-a203982a5784",
   "metadata": {},
   "outputs": [
    {
     "name": "stdout",
     "output_type": "stream",
     "text": [
      "/home/domza/Documents/Fakultet/Programiranje2/Programiranje-2/CODE\n"
     ]
    }
   ],
   "source": [
    "import sys\n",
    "import os\n",
    "\n",
    "current_dir = os.getcwd()\n",
    "\n",
    "print(current_dir)\n",
    "\n",
    "sys.path.append(\"/home/domza/Documents/Fakultet/Programiranje2/Programiranje-2\")"
   ]
  },
  {
   "cell_type": "code",
   "execution_count": 2,
   "id": "f3109fea-2379-4657-b4cf-b2fab6b96fed",
   "metadata": {},
   "outputs": [],
   "source": [
    "from ADDITIONAL_CODE import aux_funk, pec_funk"
   ]
  },
  {
   "cell_type": "code",
   "execution_count": 3,
   "id": "8eb0a0d7-bec5-4022-83df-d7fa889c9e12",
   "metadata": {},
   "outputs": [
    {
     "name": "stdout",
     "output_type": "stream",
     "text": [
      "2\n",
      "65\n",
      "1\n",
      "2\n",
      "6\n"
     ]
    }
   ],
   "source": [
    "pec_funk.print_list_elements([2, 65, 1, 2, 6])"
   ]
  },
  {
   "cell_type": "code",
   "execution_count": null,
   "id": "c8018df3-94b1-49ec-b35c-6ca29a2582cf",
   "metadata": {},
   "outputs": [],
   "source": []
  }
 ],
 "metadata": {
  "kernelspec": {
   "display_name": "Python 3 (ipykernel)",
   "language": "python",
   "name": "python3"
  },
  "language_info": {
   "codemirror_mode": {
    "name": "ipython",
    "version": 3
   },
   "file_extension": ".py",
   "mimetype": "text/x-python",
   "name": "python",
   "nbconvert_exporter": "python",
   "pygments_lexer": "ipython3",
   "version": "3.12.7"
  }
 },
 "nbformat": 4,
 "nbformat_minor": 5
}
