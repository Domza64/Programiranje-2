{
 "cells": [
  {
   "cell_type": "code",
   "execution_count": 3,
   "id": "60bb1c22-722d-4416-913e-f140ef4d75ec",
   "metadata": {},
   "outputs": [
    {
     "name": "stdout",
     "output_type": "stream",
     "text": [
      "/home/domza/Documents/Fakultet/Programiranje2/Programiranje-2/CODE\n"
     ]
    }
   ],
   "source": [
    "import sys\n",
    "import os\n",
    "\n",
    "current_dir = os.getcwd()\n",
    "\n",
    "print(current_dir)\n",
    "\n",
    "sys.path.append(\"/home/domza/Documents/Fakultet/Programiranje2/Programiranje-2\")"
   ]
  },
  {
   "cell_type": "code",
   "execution_count": 8,
   "id": "39ced102-647f-4e89-adf9-9ccdc0a82002",
   "metadata": {},
   "outputs": [],
   "source": [
    "from MODULES import oop_cls"
   ]
  },
  {
   "cell_type": "code",
   "execution_count": 9,
   "id": "4815d15d-fd05-4ea3-b1c0-f61a0b1908a1",
   "metadata": {},
   "outputs": [
    {
     "name": "stdout",
     "output_type": "stream",
     "text": [
      "Animal: Tiger | Name: Sarko | years old: 12\n"
     ]
    }
   ],
   "source": [
    "tiger = oop_cls.Tiger(\"Tiger\", \"Sarko\", 12)\n",
    "print(tiger)"
   ]
  },
  {
   "cell_type": "code",
   "execution_count": null,
   "id": "0d47791d-efce-47d4-af91-303bd9de20d9",
   "metadata": {},
   "outputs": [],
   "source": []
  }
 ],
 "metadata": {
  "kernelspec": {
   "display_name": "Python 3 (ipykernel)",
   "language": "python",
   "name": "python3"
  },
  "language_info": {
   "codemirror_mode": {
    "name": "ipython",
    "version": 3
   },
   "file_extension": ".py",
   "mimetype": "text/x-python",
   "name": "python",
   "nbconvert_exporter": "python",
   "pygments_lexer": "ipython3",
   "version": "3.12.7"
  }
 },
 "nbformat": 4,
 "nbformat_minor": 5
}
