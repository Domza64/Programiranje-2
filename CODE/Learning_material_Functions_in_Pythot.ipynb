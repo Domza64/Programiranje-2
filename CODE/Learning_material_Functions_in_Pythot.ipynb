{
  "cells": [
    {
      "cell_type": "markdown",
      "metadata": {
        "id": "Xe3giVL7s1o8"
      },
      "source": [
        "# Funkcije u Pythonu - osnove\n",
        "---\n",
        "\n",
        "Poznato nam je da Python ima ugrašene funkcije koje su dio [Python Standard Library &Rarr; Built-in functions.](https://docs.python.org/3/library/functions.html)\n",
        "\n",
        "Neke od njih zahtjevaju obavezne parametre, a postoje i opcionalni. Primjerice, ugrađena funkcija `round`."
      ]
    },
    {
      "cell_type": "code",
      "execution_count": 3,
      "metadata": {
        "colab": {
          "base_uri": "https://localhost:8080/"
        },
        "id": "FjrbghMLtvRV",
        "outputId": "e0575ab3-9636-44f1-c55e-4f02f75d8c45"
      },
      "outputs": [
        {
          "name": "stdout",
          "output_type": "stream",
          "text": [
            "<built-in function round>\n",
            "3\n",
            "2.79\n"
          ]
        }
      ],
      "source": [
        "# pogledajmo da je riječ o ugrađenoj funkciji\n",
        "print(round)\n",
        "# primjenimo bez opcionalnih parametara\n",
        "number = 2.7865\n",
        "res = round(number)\n",
        "print(res)\n",
        "# dodajmo opcionalni parametar\n",
        "res = round(number, 2)\n",
        "print(res)\n"
      ]
    },
    {
      "cell_type": "markdown",
      "metadata": {
        "id": "E333Oyyhuaz4"
      },
      "source": [
        "Pogledamo li dokumentaciju imamo\n",
        "\n",
        "```python\n",
        "round(number, ndigits=None)\n",
        "\n",
        "Return number rounded to ndigits precision after the decimal point. If ndigits is omitted or is None, it returns the nearest integer to its input.\n",
        "```\n",
        "\n",
        "Vidljivo je da drugi parametar `ndigits` predstavlja opcionalni parametar. Iz dosadašnjeg \"druženja\" s Python programskim jezikom relativno ste dobro upoznati s ugrađenim funkcijama. Međutim, brojni su primjeri kada korisnici trebaju definirati vlastite funkcije (kod OOP u Pythonu vidjet ćemo kako se koncept proširuje na korisnički definirane metode unutar razreda/klasa).\n",
        "\n",
        "## Korisnički definirane funkcije\n",
        "\n",
        "Opći princip definiranaj korisničkih funkcija je sljedeći:\n",
        "\n",
        "```python\n",
        "\n",
        "def function_name(parameters):\n",
        "  \"\"\" Docstring that describes and explains\n",
        "  user defined function\"\"\"\n",
        "\n",
        "  # body of the function\n",
        "  # some code in body....\n",
        "\n",
        "  return value\n",
        "\n",
        "```\n",
        "\n",
        "> **Važna napomena:** Pogledajte ponovno upute za [PEP-8 Style Guide for Python Code](https://peps.python.org/pep-0008/)\n",
        "\n",
        "Često postoji terminološki problem oko tzv. parametara funckije i argumenata funkcije, te brojni autori ih koriste kao sinonime. Uglavnom. pravilo je sljedeće:\n",
        "\n",
        "| **Paramteri**                          | **Argumenti**                          |\n",
        "|-----------------------------------------|----------------------------------------|\n",
        "| Definirano u **potpisu** funkcije | Proslijeđeni tijekom **poziva** funkcije|\n",
        "| Djeluju kao **rezervirana mjesta** za konkretne vrijednosti| Stvarne, konkretne vrijednosti proslijeđene funckiji za izvršavanje|\n",
        "| Postoje u **definiciji**  funkcije      | Postoje pri **izvršavanju** funkcije |\n",
        "\n",
        "Funkcije u Pythonu imaju i tzv. pozicijske argumente (*args) te argumente s ključnim riječima (**kwargs) koji su u biti parametri, a konkretne vrijednosti proslijeđene funkciji su argumenti. Sada se možemo pozabaviti i s tim parametrima."
      ]
    },
    {
      "cell_type": "markdown",
      "metadata": {
        "id": "x7M2UzHt142Z"
      },
      "source": [
        "## Pozicijski argumenti i argumenti s ključnim riječima\n",
        "\n",
        "Zamislimo situaciju u kojoj imamo funkciju koja zahtjeva dva ulazna parametra:"
      ]
    },
    {
      "cell_type": "code",
      "execution_count": null,
      "metadata": {
        "colab": {
          "base_uri": "https://localhost:8080/"
        },
        "id": "NLINsHfWz0kU",
        "outputId": "c86c8a41-cc21-476e-e041-f0be9f1b188f"
      },
      "outputs": [
        {
          "name": "stdout",
          "output_type": "stream",
          "text": [
            "Hello once...\n",
            "Hello!\n",
            "Hello!\n",
            "Hello!\n",
            "Hello!\n",
            "Hello!\n",
            "Result is: 300\n"
          ]
        }
      ],
      "source": [
        "def print_message(message, n=1):\n",
        "  \"\"\"Prints message n times.\n",
        "\n",
        "  params:\n",
        "    message: string to be printed\n",
        "    n: Number of times to print | Default = 1\n",
        "  \"\"\"\n",
        "  for _ in range(n):\n",
        "    print(message)\n",
        "\n",
        "print_message(\"Hello once...\")\n",
        "print_message(\"Hello!\", 5)\n",
        "\n",
        "# ------------------------------------\n",
        "\n",
        "def simple_function(n1, n2):\n",
        "  return n1+n2\n",
        "\n",
        "\n",
        "num1 = 100\n",
        "num2 = 200\n",
        "\n",
        "res = simple_function(num1, num2)\n",
        "print(f\"Result is: {res}\")"
      ]
    },
    {
      "cell_type": "markdown",
      "metadata": {
        "id": "9XWfu1fg2c7L"
      },
      "source": [
        "Ništa novog, niti išta posebno. Pretpostavimo da trebamo napraviti funkciju koja sumira vrijednosti za proizvoljni broj ulaza koji nije unaprijed poznat:"
      ]
    },
    {
      "cell_type": "code",
      "execution_count": 7,
      "metadata": {
        "colab": {
          "base_uri": "https://localhost:8080/"
        },
        "id": "bjP0-DZc2rED",
        "outputId": "9d1dd089-2936-4476-f813-c63402cae0d6"
      },
      "outputs": [
        {
          "name": "stdout",
          "output_type": "stream",
          "text": [
            "Result is: 450\n",
            "Result is: 450\n"
          ]
        }
      ],
      "source": [
        "def extended_simple_funk(n1, n2, *args):\n",
        "  res = 0\n",
        "  for num in args:\n",
        "    res += num\n",
        "  return n1 + n2 + res\n",
        "\n",
        "\n",
        "numbers = (10, 20, 30, 40, 50)\n",
        "res = extended_simple_funk(num1, num2, *numbers)\n",
        "print(f\"Result is: {res}\")\n",
        "# mogli smo i ovako\n",
        "res = extended_simple_funk(num1, num2, 10, 20, 30, 40, 50)\n",
        "print(f\"Result is: {res}\")"
      ]
    },
    {
      "cell_type": "markdown",
      "metadata": {
        "id": "v3mvGCPMElLh"
      },
      "source": [
        "Vidmo da su pozicijski parametri u biti uređene n-torke (tuples) koje se raspakiraju korištenjem asteriksa (*). Pogledajmo sada primjer s `kwargs`."
      ]
    },
    {
      "cell_type": "code",
      "execution_count": 8,
      "metadata": {
        "id": "NBZSAD7MFTnY"
      },
      "outputs": [],
      "source": [
        "student_data = {\"Marko\":[\"Kemija\", \"Matematika\", \"Biologija\"], \"Petra\": [\"Fizika\", \"Računarstvo\"], \"Mia\":[\"Geografija\", \"Kemija\", \"Fizika\", \"Računarstvo\"]}\n",
        "\n",
        "def print_student_data(**kwargs):\n",
        "\n",
        "  for name, courses in kwargs.items():\n",
        "    courses = \",\".join(courses)\n",
        "    print(f\"{name}:{courses}\")\n"
      ]
    },
    {
      "cell_type": "code",
      "execution_count": 9,
      "metadata": {
        "colab": {
          "base_uri": "https://localhost:8080/"
        },
        "id": "0aeC4i7VGADO",
        "outputId": "36735812-e100-457c-e220-0c7dac5dafe8"
      },
      "outputs": [
        {
          "name": "stdout",
          "output_type": "stream",
          "text": [
            "Marko:Kemija,Matematika,Biologija\n",
            "Petra:Fizika,Računarstvo\n",
            "Mia:Geografija,Kemija,Fizika,Računarstvo\n"
          ]
        }
      ],
      "source": [
        "print_student_data(**student_data)"
      ]
    },
    {
      "cell_type": "code",
      "execution_count": null,
      "metadata": {},
      "outputs": [
        {
          "name": "stdout",
          "output_type": "stream",
          "text": [
            "customer_1 : item_1, item_2, item_3\n",
            "customer_2 : item_4, item_5, item_6\n",
            "customer_3 : item_7, item_8, item_9\n"
          ]
        }
      ],
      "source": [
        "data = {\"customer_1\": [\"item_1\", \"item_2\", \"item_3\"], \"customer_2\": [\"item_4\", \"item_5\", \"item_6\"], \"customer_3\": [\"item_7\", \"item_8\", \"item_9\"]}\n",
        "\n",
        "def print_orders_for_customers(**kwargs):\n",
        "    for customer, items in kwargs.items():\n",
        "        items_str = \", \".join(items)\n",
        "        print(customer, \":\", items_str)\n",
        "\n",
        "print_orders_for_customers(**data)"
      ]
    },
    {
      "cell_type": "markdown",
      "metadata": {
        "id": "gd7av8gBGhfr"
      },
      "source": [
        "Najviše nas interesira primjer s mješovitim parametrima."
      ]
    },
    {
      "cell_type": "code",
      "execution_count": 14,
      "metadata": {
        "id": "awJ3CJkdGoKY"
      },
      "outputs": [],
      "source": [
        "def do_something_with_mixture(val1, name1, *names, option=100, resolution=\"300x400\", **additional):\n",
        "  print(f\"{name1} has a value: {val1}\")\n",
        "  for name in names:\n",
        "    print(f\"This one is from positional as tuple structure: {name}\")\n",
        "  print(f\"Option has predefined value -> {option}\")\n",
        "  print(f\"Resolution is also key-word arg: {resolution}\")\n",
        "  for k, v in additional.items():\n",
        "    print(f\"From additional kwargs: {k} -> {v}\")"
      ]
    },
    {
      "cell_type": "code",
      "execution_count": 16,
      "metadata": {
        "colab": {
          "base_uri": "https://localhost:8080/"
        },
        "id": "P8264xJdIsIA",
        "outputId": "b9a7c86e-d103-4311-8f5a-1bba9c27bcb0"
      },
      "outputs": [
        {
          "name": "stdout",
          "output_type": "stream",
          "text": [
            "dict_keys(['low', 'high', 'ultra'])\n",
            "Neki string has a value: 12\n",
            "This one is from positional as tuple structure: Ime 1\n",
            "This one is from positional as tuple structure: Ime 2\n",
            "This one is from positional as tuple structure: Ime 3\n",
            "Option has predefined value -> 100\n",
            "Resolution is also key-word arg: 1000x2000\n",
            "From additional kwargs: w -> 2\n",
            "From additional kwargs: z -> asd\n",
            "From additional kwargs: sd -> asd\n",
            "From additional kwargs: lst -> ['asd', 'asd']\n"
          ]
        }
      ],
      "source": [
        "names_list = [\"Franko\", \"Ada\", \"Ema\", \"Roberta\", \"Tino\", \"Vlatko\", \"Marija\", \"Ivana\"]\n",
        "alternative_res = {\"low\": \"100x200\", \"high\": \"1000x2500\", \"ultra\": \"3400x5800\"}\n",
        "print(alternative_res.keys())\n",
        "#do_something_with_mixture(100, \"Ana\", *names_list, **alternative_res, option=305050)\n",
        "\n",
        "do_something_with_mixture(12, \"Neki string\", \"Ime 1\", \"Ime 2\", \"Ime 3\", resolution=\"1000x2000\", w=2, z=\"asd\", sd=\"asd\", lst=[\"asd\", \"asd\"])"
      ]
    },
    {
      "cell_type": "markdown",
      "metadata": {
        "id": "YBGlKojwK6og"
      },
      "source": [
        "### Primjer 1:\n",
        "\n",
        "Potrebno je definirati funkciju koja će biti u stanju izdvojiti sve pozicijske i sve argumente s ključnim riječima analizom potpisa bilo koje funkcije.\n",
        "\n",
        "> **Hint:** koristimo `inspect` modul\n",
        "\n",
        "Značenja vrste parametara iz tog modula:\n",
        "\n",
        "|Parameter Kind           | Description                                                                 |\n",
        "|--------------------------|-----------------------------------------------------------------------------|\n",
        "| `POSITIONAL_ONLY`        | Can only be passed positionally (common in built-ins like `len()`). Defined using `/` in function signatures. |\n",
        "| `POSITIONAL_OR_KEYWORD`  | Can be passed positionally or as keyword (default for most parameters).      |\n",
        "| `VAR_POSITIONAL`         | Collects extra positional arguments (`*args` syntax).                       |\n",
        "| `KEYWORD_ONLY`           | Must be passed as keyword arguments (appear after `*` or `*args` in the function definition). |\n",
        "| `VAR_KEYWORD`            | Collects extra keyword arguments (`**kwargs` syntax).                       |"
      ]
    },
    {
      "cell_type": "code",
      "execution_count": 20,
      "metadata": {
        "id": "sXnkanF1MMII"
      },
      "outputs": [],
      "source": [
        "def user_defined_function(a,b, *vals, num, name=\"important\", option1:str=\"extend\", def_val:int=200, **additional_opt):\n",
        "  # some code - now it is not important\n",
        "  pass"
      ]
    },
    {
      "cell_type": "code",
      "execution_count": 21,
      "metadata": {
        "id": "mRqQNbgFMHeP"
      },
      "outputs": [],
      "source": [
        "import inspect\n",
        "\n",
        "def analyse_params(paramters:list):\n",
        "  positional_args = []\n",
        "  keyword_args = []\n",
        "\n",
        "  for param in paramters:\n",
        "\n",
        "    if param.kind in (inspect.Parameter.POSITIONAL_ONLY, inspect.Parameter.POSITIONAL_OR_KEYWORD, inspect.Parameter.VAR_POSITIONAL):\n",
        "      positional_args.append(param.name)\n",
        "    elif param.kind in (inspect.Parameter.KEYWORD_ONLY, inspect.Parameter.VAR_KEYWORD):\n",
        "      keyword_args.append(param.name)\n",
        "\n",
        "  return positional_args, keyword_args"
      ]
    },
    {
      "cell_type": "code",
      "execution_count": 23,
      "metadata": {
        "colab": {
          "base_uri": "https://localhost:8080/"
        },
        "id": "gPS1wgr8Qomo",
        "outputId": "0bfcb817-c76b-492f-d20c-5476f119a556"
      },
      "outputs": [
        {
          "name": "stdout",
          "output_type": "stream",
          "text": [
            "(a, b, *vals, num, name='important', option1: str = 'extend', def_val: int = 200, **additional_opt)\n"
          ]
        }
      ],
      "source": [
        "sig = inspect.signature(user_defined_function)\n",
        "print(sig)\n",
        "params = sig.parameters.values()"
      ]
    },
    {
      "cell_type": "code",
      "execution_count": 24,
      "metadata": {
        "colab": {
          "base_uri": "https://localhost:8080/"
        },
        "id": "afSPb05LQ4xt",
        "outputId": "52e52505-963c-4ad2-b55e-3ff46f18adfa"
      },
      "outputs": [
        {
          "name": "stdout",
          "output_type": "stream",
          "text": [
            "['a', 'b', 'vals']\n",
            "['num', 'name', 'option1', 'def_val', 'additional_opt']\n"
          ]
        }
      ],
      "source": [
        "positional_args, keyword_args = analyse_params(params)\n",
        "print(positional_args)\n",
        "print(keyword_args)"
      ]
    },
    {
      "cell_type": "markdown",
      "metadata": {
        "id": "kK7EaoTXSo6w"
      },
      "source": [
        "### Problem set I\n",
        "\n",
        "Kreirajte funkciju `is_palindrome` koja provjerava je li ulazni string kojeg funkcija prima palindrom pri čemu ispisuje rezultat provjere. Potrebno je osiguirati i dodatnu funkciju koja polazni string pretvara u \"lower case string\". Pod provjerom je li string palindrom ili ne ignoriraju se svi specijalni znakovi (non-alphanumeric).\n",
        "\n",
        "```\n",
        "Primjer palindroma:\n",
        "\n",
        "Ana\n",
        "Level\n",
        "rotor\n",
        "my gym\n",
        "Never odd or even\n",
        "\n",
        "```"
      ]
    },
    {
      "cell_type": "code",
      "execution_count": 43,
      "metadata": {},
      "outputs": [
        {
          "name": "stdout",
          "output_type": "stream",
          "text": [
            "String 'Ana' je palindrom: True\n",
            "String 'Neki tekst' je palindrom: False\n",
            "String 'was saw' je palindrom: True\n",
            "String 'f ! f#f' je palindrom: True\n"
          ]
        }
      ],
      "source": [
        "def clean_str(str:str) -> str:\n",
        "    new_str = \"\"\n",
        "    for char in str.lower():\n",
        "        if char.isalpha():\n",
        "            new_str += char\n",
        "\n",
        "    return new_str\n",
        "\n",
        "def is_palindrome(str:str):\n",
        "    cleaned_str = clean_str(str)\n",
        "    print(f\"String '{str}' je palindrom: {cleaned_str == cleaned_str[::-1]}\")\n",
        "\n",
        "is_palindrome(\"Ana\")\n",
        "is_palindrome(\"Neki tekst\")\n",
        "is_palindrome(\"was saw\")\n",
        "is_palindrome(\"f ! f#f\")"
      ]
    },
    {
      "cell_type": "markdown",
      "metadata": {
        "id": "5956BpJuVV-8"
      },
      "source": [
        "### Problem set II\n",
        "\n",
        "Vaš zadatak je da napišete funkciju koja za danu listu brojeva određuje:\n",
        "\n",
        "1. min\n",
        "2. mmax\n",
        "3. avg\n",
        "4. median\n",
        "5. number_of_elements\n",
        "\n",
        "U ovom zadatku ne trebate definirati pomoćne funkcije."
      ]
    },
    {
      "cell_type": "code",
      "execution_count": null,
      "metadata": {},
      "outputs": [
        {
          "name": "stdout",
          "output_type": "stream",
          "text": [
            "Min: 1\n",
            "Max: 44\n",
            "Average: 12.833333333333334\n",
            "Median: 9\n",
            "No of elements: 6\n"
          ]
        }
      ],
      "source": [
        "def analyse_list(lst:list):\n",
        "    lst.sort()\n",
        "    print(\"Min:\", min(lst))\n",
        "    print(\"Max:\", max(lst))\n",
        "    print(\"Average:\", sum(lst) / len(lst))\n",
        "    print(\"Median:\", lst[int(len(lst) / 2)])\n",
        "    print(\"No of elements:\", len(lst))\n",
        "\n",
        "analyse_list([1, 6, 5, 12, 9, 44])"
      ]
    },
    {
      "cell_type": "markdown",
      "metadata": {
        "id": "BSR_lr4pbPOH"
      },
      "source": [
        "### Problem set III\n",
        "\n",
        "Definirajte i testirajte fukciju koja računa popust na slijed vrijednosti uz uvjet da unaprijed ne znadete koliko vrijednosti možete imati kao ulaz. Sigurni ste da funkcija treba primiti bar jednu vrijednost na koju može primijeniti zadani popust. Polazna vrijednost popusta je 10%, a korisnik je po potrebi može promijeniti."
      ]
    },
    {
      "cell_type": "markdown",
      "metadata": {
        "id": "uNUW8vd7e3ZW"
      },
      "source": [
        "### Problem set IV\n",
        "\n",
        "Trebate osigurati funkciju koja za proizvoljnu rečenicu broji koliko riječi imate u njoj. Ukoliko je pored rečenice zadana lista specijalnih riječi tada je pored ukupnog broja riječi potrebno vratiti i koliko se puta pojavi specijalna riječ u ulaznoj rečenici / tekstu. Vodite računa da se specijalne riječi uvijek navode kao riječi napisane s malim slovima.\n",
        "\n",
        "Primjerice za slučaj da lista specijalnih riječi nije zadana za tekst:\n",
        "\n",
        "\"\"\"Ovo je ulazni tekst. Ne mora biti samo rečenica, već može biti i malo dulji tekst. S ovim završavamo.\"\"\"\n",
        "\n",
        "Print -> broj riječi je: 19"
      ]
    },
    {
      "cell_type": "markdown",
      "metadata": {
        "id": "tCS6Jg_iir9j"
      },
      "source": [
        "### Problem set V\n",
        "\n",
        "U ovom zadatku ćete definirati više funkcija. Prva funkcija za bilo koju ulaznu listu vraća samo listu numeričkih vrijednosti iz polazne liste, što znači da izbacuje sve vrijednosti koje nisu numeričke (ograničimo se na int i float). U drugoj funkciji implementirate Quick Sort algoritam koji ćete primjenjivati na povratnu listu iz prve funkcije."
      ]
    }
  ],
  "metadata": {
    "colab": {
      "provenance": []
    },
    "kernelspec": {
      "display_name": "Python 3",
      "name": "python3"
    },
    "language_info": {
      "codemirror_mode": {
        "name": "ipython",
        "version": 3
      },
      "file_extension": ".py",
      "mimetype": "text/x-python",
      "name": "python",
      "nbconvert_exporter": "python",
      "pygments_lexer": "ipython3",
      "version": "3.13.2"
    }
  },
  "nbformat": 4,
  "nbformat_minor": 0
}
