{
 "cells": [
  {
   "cell_type": "code",
   "execution_count": 31,
   "id": "3ab1bfe5-cd5e-4de2-9a49-ee71fecdaa68",
   "metadata": {},
   "outputs": [],
   "source": [
    "class Student:\n",
    "\n",
    "    def __init__(self, name, yos):\n",
    "        self.name = name\n",
    "        self.yos = yos\n",
    "\n",
    "    def student_info(self):\n",
    "        print(f\"Student name: {self.name}, year of study: {self.yos}\")\n",
    "\n",
    "    def __str__(self):\n",
    "        return f\"Student: {self.name} - year of study: {self.yos}\""
   ]
  },
  {
   "cell_type": "code",
   "execution_count": 44,
   "id": "502ec87d-f606-490d-a14e-8c0a5600b416",
   "metadata": {},
   "outputs": [],
   "source": [
    "class Course:\n",
    "\n",
    "    def __init__(self, course_name, max_student):\n",
    "        self.course_name = course_name\n",
    "        self.max_student = max_student\n",
    "        self.students = []\n",
    "        self.grades = {}\n",
    "\n",
    "    def add_student_to_course(self, student:Student):\n",
    "        if len(self.students) >= self.max_student:\n",
    "            print(f\"Course is full ({len(self.students)}/{self.max_student}). Student not added.\")\n",
    "        elif student in self.students:\n",
    "            print(f\"Student {student.name} is already enrolled. Student not added.\")\n",
    "        else:\n",
    "            self.students.append(student)\n",
    "            print(f\"{student.name} added to {self.course_name}\")\n",
    "\n",
    "    def print_all_enroled_students(self):\n",
    "        for student in self.students:\n",
    "            print(student)\n",
    "\n",
    "    def add_grade_to_student(self, student:Student, grade:int):\n",
    "        if student in self.students:\n",
    "            self.grades[student] = grade\n",
    "            print(f\"Grade added to student: {student.name}\")\n",
    "        else:\n",
    "            print(f\"Student {student.name} is not enrolled to this class.\")\n",
    "\n",
    "    def print_all_grades(self):\n",
    "        for student, grade in self.grades.items():\n",
    "            print(f\"{student.name} - {grade}\")\n",
    "\n",
    "    def get_average_grade(self):\n",
    "        grades = self.grades.values()\n",
    "        return sum(grades) / len(grades)\n",
    "        "
   ]
  },
  {
   "cell_type": "code",
   "execution_count": 45,
   "id": "6d0e442d-c396-4754-9320-27c06c59a7d1",
   "metadata": {},
   "outputs": [
    {
     "name": "stdout",
     "output_type": "stream",
     "text": [
      "Nera added to CS-101\n",
      "Student Nera is already enrolled. Student not added.\n",
      "Grade added to student: Nera\n",
      "Student Eli is not enrolled to this class.\n",
      "3.0\n",
      "Nera - 3\n",
      "Student: Nera - year of study: 1\n"
     ]
    }
   ],
   "source": [
    "student1 = Student(\"Nera\", 1)\n",
    "student2 = Student(\"Eli\", 3)\n",
    "\n",
    "course = Course(\"CS-101\", 10)\n",
    "\n",
    "course.add_student_to_course(student1)\n",
    "course.add_student_to_course(student1)\n",
    "\n",
    "course.add_grade_to_student(student1, 3)\n",
    "course.add_grade_to_student(student2, 5)\n",
    "\n",
    "print(course.get_average_grade())\n",
    "\n",
    "#for i in range(12):\n",
    "#    course.add_student_to_course(Student(\"aa\", i))\n",
    "\n",
    "course.print_all_grades()\n",
    "\n",
    "course.print_all_enroled_students()"
   ]
  },
  {
   "cell_type": "code",
   "execution_count": 46,
   "id": "acf1f11d-8653-49ac-a57d-ed38e1ec5484",
   "metadata": {},
   "outputs": [],
   "source": [
    "def check_object(obj):\n",
    "    print(type(obj))\n",
    "    print(obj.__dict__)\n",
    "    print(f\"Location: {hex(id(obj))}\")"
   ]
  },
  {
   "cell_type": "code",
   "execution_count": 49,
   "id": "e2cc2330-f3d5-4ab4-b6fd-bc0990ab8f58",
   "metadata": {},
   "outputs": [
    {
     "name": "stdout",
     "output_type": "stream",
     "text": [
      "<class '__main__.Student'>\n",
      "{'name': 'Nera', 'yos': 1}\n",
      "Location: 0x75292f7dc830\n"
     ]
    }
   ],
   "source": [
    "check_object(student1)"
   ]
  },
  {
   "cell_type": "code",
   "execution_count": 50,
   "id": "7d3ad1ca-32bc-425d-b95c-646866b34178",
   "metadata": {},
   "outputs": [],
   "source": [
    "import datetime\n",
    "from random import randrange\n",
    "\n",
    "def gen_dob(start_year = 1990, end_year = 2005):\n",
    "    start = datetime.date(start_year, 1, 1)\n",
    "    end = datetime.date(end_year, 1, 1)\n",
    "    elapsed = end - start\n",
    "    days_between = elapsed.days\n",
    "    rand_num_days = randrange(days_between)\n",
    "    dat_random = start + datetime.timedelta(days=rand_num_days)\n",
    "    return dat_random\n",
    "    "
   ]
  },
  {
   "cell_type": "code",
   "execution_count": 90,
   "id": "8d184848-8181-4071-a0cb-c1101e3160c4",
   "metadata": {},
   "outputs": [],
   "source": [
    "class Person:\n",
    "    CNT = 10\n",
    "\n",
    "    def __init__(self, name):\n",
    "        self.__name = name\n",
    "        self.__dob = str(gen_dob())\n",
    "        self.__id = Person.CNT\n",
    "        Person.CNT += 1\n",
    "\n",
    "    @property\n",
    "    def name(self):\n",
    "        return self.__name\n",
    "\n",
    "    @name.setter\n",
    "    def name(self, name):\n",
    "        self.__name = name\n",
    "\n",
    "    def __str__(self):\n",
    "        return f\"Name: {self.__name}, date of birth: {self.__dob}, id: {self.__id}\""
   ]
  },
  {
   "cell_type": "code",
   "execution_count": 91,
   "id": "e8174749-d4f5-4d8a-a8f1-1a952a3756a1",
   "metadata": {},
   "outputs": [],
   "source": [
    "person1 = Person(\"Nera\")\n",
    "person2 = Person(\"Nera 2\")"
   ]
  },
  {
   "cell_type": "code",
   "execution_count": 93,
   "id": "4667bf83-b818-4bfb-a8e7-fc0b8caf47ba",
   "metadata": {},
   "outputs": [
    {
     "name": "stdout",
     "output_type": "stream",
     "text": [
      "Name: Test, date of birth: 2002-12-18, id: 10\n",
      "Name: Nera 2, date of birth: 1997-09-15, id: 11\n"
     ]
    }
   ],
   "source": [
    "person1.name = \"Test\"\n",
    "#person2.set_person_name(\"Novi\")\n",
    "print(person1)\n",
    "print(person2)"
   ]
  },
  {
   "cell_type": "code",
   "execution_count": null,
   "id": "3844d156-a826-4cb7-9b00-1bc3d58079b6",
   "metadata": {},
   "outputs": [],
   "source": []
  }
 ],
 "metadata": {
  "kernelspec": {
   "display_name": "Python 3 (ipykernel)",
   "language": "python",
   "name": "python3"
  },
  "language_info": {
   "codemirror_mode": {
    "name": "ipython",
    "version": 3
   },
   "file_extension": ".py",
   "mimetype": "text/x-python",
   "name": "python",
   "nbconvert_exporter": "python",
   "pygments_lexer": "ipython3",
   "version": "3.12.7"
  }
 },
 "nbformat": 4,
 "nbformat_minor": 5
}
