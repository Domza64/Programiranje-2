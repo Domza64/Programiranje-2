{
 "cells": [
  {
   "cell_type": "code",
   "execution_count": 31,
   "id": "3ab1bfe5-cd5e-4de2-9a49-ee71fecdaa68",
   "metadata": {},
   "outputs": [],
   "source": [
    "class Student:\n",
    "\n",
    "    def __init__(self, name, yos):\n",
    "        self.name = name\n",
    "        self.yos = yos\n",
    "\n",
    "    def student_info(self):\n",
    "        print(f\"Student name: {self.name}, year of study: {self.yos}\")\n",
    "\n",
    "    def __str__(self):\n",
    "        return f\"Student: {self.name} - year of study: {self.yos}\""
   ]
  },
  {
   "cell_type": "code",
   "execution_count": 44,
   "id": "502ec87d-f606-490d-a14e-8c0a5600b416",
   "metadata": {},
   "outputs": [],
   "source": [
    "class Course:\n",
    "\n",
    "    def __init__(self, course_name, max_student):\n",
    "        self.course_name = course_name\n",
    "        self.max_student = max_student\n",
    "        self.students = []\n",
    "        self.grades = {}\n",
    "\n",
    "    def add_student_to_course(self, student:Student):\n",
    "        if len(self.students) >= self.max_student:\n",
    "            print(f\"Course is full ({len(self.students)}/{self.max_student}). Student not added.\")\n",
    "        elif student in self.students:\n",
    "            print(f\"Student {student.name} is already enrolled. Student not added.\")\n",
    "        else:\n",
    "            self.students.append(student)\n",
    "            print(f\"{student.name} added to {self.course_name}\")\n",
    "\n",
    "    def print_all_enroled_students(self):\n",
    "        for student in self.students:\n",
    "            print(student)\n",
    "\n",
    "    def add_grade_to_student(self, student:Student, grade:int):\n",
    "        if student in self.students:\n",
    "            self.grades[student] = grade\n",
    "            print(f\"Grade added to student: {student.name}\")\n",
    "        else:\n",
    "            print(f\"Student {student.name} is not enrolled to this class.\")\n",
    "\n",
    "    def print_all_grades(self):\n",
    "        for student, grade in self.grades.items():\n",
    "            print(f\"{student.name} - {grade}\")\n",
    "\n",
    "    def get_average_grade(self):\n",
    "        grades = self.grades.values()\n",
    "        return sum(grades) / len(grades)\n",
    "        "
   ]
  },
  {
   "cell_type": "code",
   "execution_count": 45,
   "id": "6d0e442d-c396-4754-9320-27c06c59a7d1",
   "metadata": {},
   "outputs": [
    {
     "name": "stdout",
     "output_type": "stream",
     "text": [
      "Nera added to CS-101\n",
      "Student Nera is already enrolled. Student not added.\n",
      "Grade added to student: Nera\n",
      "Student Eli is not enrolled to this class.\n",
      "3.0\n",
      "Nera - 3\n",
      "Student: Nera - year of study: 1\n"
     ]
    }
   ],
   "source": [
    "student1 = Student(\"Nera\", 1)\n",
    "student2 = Student(\"Eli\", 3)\n",
    "\n",
    "course = Course(\"CS-101\", 10)\n",
    "\n",
    "course.add_student_to_course(student1)\n",
    "course.add_student_to_course(student1)\n",
    "\n",
    "course.add_grade_to_student(student1, 3)\n",
    "course.add_grade_to_student(student2, 5)\n",
    "\n",
    "print(course.get_average_grade())\n",
    "\n",
    "#for i in range(12):\n",
    "#    course.add_student_to_course(Student(\"aa\", i))\n",
    "\n",
    "course.print_all_grades()\n",
    "\n",
    "course.print_all_enroled_students()"
   ]
  },
  {
   "cell_type": "code",
   "execution_count": 46,
   "id": "acf1f11d-8653-49ac-a57d-ed38e1ec5484",
   "metadata": {},
   "outputs": [],
   "source": [
    "def check_object(obj):\n",
    "    print(type(obj))\n",
    "    print(obj.__dict__)\n",
    "    print(f\"Location: {hex(id(obj))}\")"
   ]
  },
  {
   "cell_type": "code",
   "execution_count": 49,
   "id": "e2cc2330-f3d5-4ab4-b6fd-bc0990ab8f58",
   "metadata": {},
   "outputs": [
    {
     "name": "stdout",
     "output_type": "stream",
     "text": [
      "<class '__main__.Student'>\n",
      "{'name': 'Nera', 'yos': 1}\n",
      "Location: 0x75292f7dc830\n"
     ]
    }
   ],
   "source": [
    "check_object(student1)"
   ]
  },
  {
   "cell_type": "code",
   "execution_count": 5,
   "id": "7d3ad1ca-32bc-425d-b95c-646866b34178",
   "metadata": {},
   "outputs": [],
   "source": [
    "import datetime\n",
    "from random import randrange\n",
    "\n",
    "def gen_dob(start_year = 1990, end_year = 2005):\n",
    "    start = datetime.date(start_year, 1, 1)\n",
    "    end = datetime.date(end_year, 1, 1)\n",
    "    elapsed = end - start\n",
    "    days_between = elapsed.days\n",
    "    rand_num_days = randrange(days_between)\n",
    "    dat_random = start + datetime.timedelta(days=rand_num_days)\n",
    "    return dat_random\n",
    "    "
   ]
  },
  {
   "cell_type": "code",
   "execution_count": 90,
   "id": "8d184848-8181-4071-a0cb-c1101e3160c4",
   "metadata": {},
   "outputs": [],
   "source": [
    "class Person:\n",
    "    CNT = 10\n",
    "\n",
    "    def __init__(self, name):\n",
    "        self.__name = name\n",
    "        self.__dob = str(gen_dob())\n",
    "        self.__id = Person.CNT\n",
    "        Person.CNT += 1\n",
    "\n",
    "    @property\n",
    "    def name(self):\n",
    "        return self.__name\n",
    "\n",
    "    @name.setter\n",
    "    def name(self, name):\n",
    "        self.__name = name\n",
    "\n",
    "    def __str__(self):\n",
    "        return f\"Name: {self.__name}, date of birth: {self.__dob}, id: {self.__id}\""
   ]
  },
  {
   "cell_type": "code",
   "execution_count": 91,
   "id": "e8174749-d4f5-4d8a-a8f1-1a952a3756a1",
   "metadata": {},
   "outputs": [],
   "source": [
    "person1 = Person(\"Nera\")\n",
    "person2 = Person(\"Nera 2\")"
   ]
  },
  {
   "cell_type": "code",
   "execution_count": 93,
   "id": "4667bf83-b818-4bfb-a8e7-fc0b8caf47ba",
   "metadata": {},
   "outputs": [
    {
     "name": "stdout",
     "output_type": "stream",
     "text": [
      "Name: Test, date of birth: 2002-12-18, id: 10\n",
      "Name: Nera 2, date of birth: 1997-09-15, id: 11\n"
     ]
    }
   ],
   "source": [
    "person1.name = \"Test\"\n",
    "#person2.set_person_name(\"Novi\")\n",
    "print(person1)\n",
    "print(person2)"
   ]
  },
  {
   "cell_type": "code",
   "execution_count": 25,
   "id": "3844d156-a826-4cb7-9b00-1bc3d58079b6",
   "metadata": {},
   "outputs": [],
   "source": [
    "class Car:\n",
    "    def __init__(self, model:str, odometer:int, dop:str=None):\n",
    "        self.model = model\n",
    "        self.odometer = odometer\n",
    "        if dop == None:\n",
    "            self.dop = gen_dob()    \n",
    "        else:\n",
    "            self.dop = dop\n",
    "\n",
    "    def __str__(self):\n",
    "        return f\"Car: {self.model} | Odom: {self.odometer} | DoP: {self.dop}\"\n",
    "\n",
    "    def __repr__(self):\n",
    "        return f\"Car: {self.model} | Odom: {self.odometer} | DoP: {self.dop}\"\n",
    "\n",
    "    @classmethod\n",
    "    def car_from_string(cls, str_val):\n",
    "        model, odo, dop = str_val.split(\"/\")\n",
    "        return cls(model, odo, dop)\n",
    "\n",
    "    @classmethod\n",
    "    def cars_from_dict(cls, cars_data_dict):\n",
    "        cars = []\n",
    "        for car, data in cars_data_dict.items():\n",
    "            model, odom, dop = data\n",
    "            cars.append(cls(model, odom, dop))\n",
    "        return cars"
   ]
  },
  {
   "cell_type": "code",
   "execution_count": 26,
   "id": "384d7fbf-a215-4e0b-be51-7b6ce4c245da",
   "metadata": {},
   "outputs": [
    {
     "name": "stdout",
     "output_type": "stream",
     "text": [
      "Car: Ford | Odom: 0 | DoP: 01.01.2025.\n",
      "Car: BMW | Odom: 12304 | DoP: 1997-09-04\n",
      "Car: Mazda | Odom: 2342 | DoP: 2001-02-05\n"
     ]
    }
   ],
   "source": [
    "car1 = Car(\"Ford\", 0, \"01.01.2025.\")\n",
    "car2 = Car(\"BMW\", 12304)\n",
    "\n",
    "car_str_val = \"Mazda/2342/2001-02-05\"\n",
    "car3 = Car.car_from_string(car_str_val)\n",
    "\n",
    "print(car1)\n",
    "print(car2)\n",
    "print(car3)"
   ]
  },
  {
   "cell_type": "code",
   "execution_count": 27,
   "id": "4b5766f5-da06-4853-97e3-3da7819844b5",
   "metadata": {},
   "outputs": [],
   "source": [
    "cars_data = {car1: (\"Nissan\", 120000, \"1996-10-04\"), car2: (\"Toyota\", 34023, \"1986-12-03\"), car3: (\"Honda\", 3412, \"1997-04-06\")}"
   ]
  },
  {
   "cell_type": "code",
   "execution_count": 28,
   "id": "0da958bb-6ad3-4c58-89de-d946a85fa7fe",
   "metadata": {},
   "outputs": [
    {
     "name": "stdout",
     "output_type": "stream",
     "text": [
      "[Car: Nissan | Odom: 120000 | DoP: 1996-10-04, Car: Toyota | Odom: 34023 | DoP: 1986-12-03, Car: Honda | Odom: 3412 | DoP: 1997-04-06]\n"
     ]
    }
   ],
   "source": [
    "cars_list = Car.cars_from_dict(cars_data)\n",
    "print(cars_list)"
   ]
  },
  {
   "cell_type": "code",
   "execution_count": 36,
   "id": "546c9ce8-3b85-484f-87a2-37ba9d093961",
   "metadata": {},
   "outputs": [],
   "source": [
    "from math import pi\n",
    "\n",
    "class My_Math:\n",
    "    PI_NEW = pi*3\n",
    "\n",
    "    @staticmethod\n",
    "    def calculate_circle_area(radius):\n",
    "        return radius**2*My_Math.PI_NEW"
   ]
  },
  {
   "cell_type": "code",
   "execution_count": 37,
   "id": "a5654c14-6508-4c4b-bc8a-2b053b97baa0",
   "metadata": {},
   "outputs": [
    {
     "name": "stdout",
     "output_type": "stream",
     "text": [
      "84.82300164692441\n"
     ]
    }
   ],
   "source": [
    "area = My_Math.calculate_circle_area(3)\n",
    "print(area)"
   ]
  },
  {
   "cell_type": "code",
   "execution_count": 44,
   "id": "aef93a67-e07a-46af-84f1-45f72c667305",
   "metadata": {},
   "outputs": [],
   "source": [
    "class Animal:\n",
    "\n",
    "    def __init__(self, animal, name):\n",
    "        self._animal = animal\n",
    "        self._name = name\n",
    "\n",
    "    def __str__(self):\n",
    "        return f\"Animal: {self._animal} | Name: {self._name}\"\n",
    "\n",
    "    def move(self):\n",
    "        print(f\"{self.__class__} is moving!\")\n",
    "\n",
    "    def make_sound(self):\n",
    "        print(\"There is no specific sound for animal - subclassess will define that.\")\n",
    "        "
   ]
  },
  {
   "cell_type": "code",
   "execution_count": 45,
   "id": "c232739f-a3b8-4d7b-ac88-3b936718181d",
   "metadata": {},
   "outputs": [
    {
     "name": "stdout",
     "output_type": "stream",
     "text": [
      "<class '__main__.Animal'> is moving!\n",
      "There is no specific sound for animal - subclassess will define that.\n",
      "Animal: Toy animal | Name: Sarko\n"
     ]
    }
   ],
   "source": [
    "animal = Animal(\"Toy animal\", \"Sarko\")\n",
    "animal.move()\n",
    "animal.make_sound()\n",
    "print(animal)"
   ]
  },
  {
   "cell_type": "code",
   "execution_count": 59,
   "id": "950fc6d6-cf09-4c65-81d7-1cb0a0c3605f",
   "metadata": {},
   "outputs": [],
   "source": [
    "class Tiger(Animal):\n",
    "    def __init__(self, animal, name, years):\n",
    "        super().__init__(animal, name)\n",
    "        self._years = years\n",
    "\n",
    "    def __str__(self):\n",
    "        repr_super = super().__str__()\n",
    "        repr_tiger_spec = f\" | years old: {self._years}\"\n",
    "        return repr_super + repr_tiger_spec\n",
    "\n",
    "    def make_sound(self):\n",
    "        print(\"Tiger specific sound...\")"
   ]
  },
  {
   "cell_type": "code",
   "execution_count": 60,
   "id": "faddab39-fe2c-4137-a7eb-df324be20f62",
   "metadata": {},
   "outputs": [
    {
     "name": "stdout",
     "output_type": "stream",
     "text": [
      "Animal: Tiger | Name: Cezar | years old: 10\n",
      "Tiger specific sound...\n"
     ]
    }
   ],
   "source": [
    "tiger = Tiger(\"Tiger\", \"Cezar\", 10)\n",
    "print(tiger)\n",
    "tiger.make_sound()"
   ]
  },
  {
   "cell_type": "code",
   "execution_count": 61,
   "id": "334cc56b-a612-4812-8240-3c74a89ee1b4",
   "metadata": {},
   "outputs": [],
   "source": [
    "class Eagle(Animal):\n",
    "    def __init__(self, animal, name, live_in):\n",
    "        super().__init__(animal, name)\n",
    "        self._live_in = live_in\n",
    "\n",
    "    def __str__(self):\n",
    "        repr_super = super().__str__()\n",
    "        repr_eagle_spec = f\" | years old: {self._years}\"\n",
    "        return repr_super + repr_eagle_spec\n",
    "\n",
    "    def fly(self):\n",
    "        print(\"Flying...\")\n",
    "        \n",
    "    def make_sound(self):\n",
    "        print(\"Eagle specific sound...\")"
   ]
  },
  {
   "cell_type": "code",
   "execution_count": 81,
   "id": "de6ae198-d439-4dae-974d-e6d4aebf8bfd",
   "metadata": {},
   "outputs": [],
   "source": [
    "class Toy:\n",
    "\n",
    "    def __init__(self, price):\n",
    "        self._price = price\n",
    "\n",
    "    def __str__(self):\n",
    "        return f\"Price is: {self._price}\"\n",
    "\n",
    "    def make_sound():\n",
    "        print(\"Some toy sound...\")"
   ]
  },
  {
   "cell_type": "code",
   "execution_count": 88,
   "id": "c54d25b8-dec1-461e-955f-5ee574a2f957",
   "metadata": {},
   "outputs": [],
   "source": [
    "class RubberTiger(Tiger, Toy):\n",
    "    def __init__(self, animal, name, years, price, store_name):\n",
    "        Tiger.__init__(self, animal, name, years)\n",
    "        Toy.__init__(self, price)\n",
    "        self._store = store_name\n",
    "\n",
    "    def say_hello_specific(self):\n",
    "        print(\"Can not say anything\")\n",
    "\n",
    "    def __str__(self):\n",
    "        return f\"{self._store} | {self._price} € | {self._name}\""
   ]
  },
  {
   "cell_type": "code",
   "execution_count": 89,
   "id": "7c99f036-e0e2-408d-a0bd-52d7263469c7",
   "metadata": {},
   "outputs": [
    {
     "name": "stdout",
     "output_type": "stream",
     "text": [
      "Web Store 1 | 25 € | GumiTiger\n"
     ]
    }
   ],
   "source": [
    "rtiger = RubberTiger(\"Tiger\", \"GumiTiger\", 1, 25, \"Web Store 1\")\n",
    "print(rtiger)"
   ]
  },
  {
   "cell_type": "code",
   "execution_count": null,
   "id": "75c12e90-e43a-49c8-aa21-31da3992fe61",
   "metadata": {},
   "outputs": [],
   "source": []
  }
 ],
 "metadata": {
  "kernelspec": {
   "display_name": "Python 3 (ipykernel)",
   "language": "python",
   "name": "python3"
  },
  "language_info": {
   "codemirror_mode": {
    "name": "ipython",
    "version": 3
   },
   "file_extension": ".py",
   "mimetype": "text/x-python",
   "name": "python",
   "nbconvert_exporter": "python",
   "pygments_lexer": "ipython3",
   "version": "3.12.7"
  }
 },
 "nbformat": 4,
 "nbformat_minor": 5
}
