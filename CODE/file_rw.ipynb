{
 "cells": [
  {
   "cell_type": "code",
   "execution_count": 1,
   "metadata": {
    "vscode": {
     "languageId": "plaintext"
    }
   },
   "outputs": [],
   "source": [
    "text = \"\"\"\n",
    "Some text\n",
    "Ovo je neki tekst\n",
    "Some random line of text\n",
    "Some more text...\n",
    "\"\"\""
   ]
  },
  {
   "cell_type": "code",
   "execution_count": 2,
   "metadata": {},
   "outputs": [],
   "source": [
    "def write_text_to_file(file_path:str, txt:str):\n",
    "    with open(file_path, \"w\", encoding=\"utf-8\") as f:\n",
    "        f.write(text)\n",
    "    print(\"Text written successfully\")"
   ]
  },
  {
   "cell_type": "code",
   "execution_count": 3,
   "metadata": {},
   "outputs": [
    {
     "name": "stdout",
     "output_type": "stream",
     "text": [
      "Text written successfully\n"
     ]
    }
   ],
   "source": [
    "file_path = \"../data/sample_file.txt\"\n",
    "write_text_to_file(file_path, text)"
   ]
  },
  {
   "cell_type": "code",
   "execution_count": 4,
   "metadata": {},
   "outputs": [],
   "source": [
    "def read_text_from_file(file_path:str) -> str:\n",
    "    with open(file_path, \"r\", encoding=\"utf-8\") as f:\n",
    "        text = f.read()\n",
    "    print(f\"file {file_path} read successfully.\")\n",
    "    return text"
   ]
  },
  {
   "cell_type": "code",
   "execution_count": 5,
   "metadata": {},
   "outputs": [],
   "source": [
    "def copy_txt_content(org_file:str, copy_file:str):\n",
    "    txt = read_text_from_file(org_file)\n",
    "    if len(txt) > 0:\n",
    "        write_text_to_file(copy_file, txt)\n",
    "        print(\"Successfully copyed file.\")\n",
    "    else:\n",
    "        print(\"Original file is emptyt, nothing to copy...\")"
   ]
  },
  {
   "cell_type": "code",
   "execution_count": 6,
   "metadata": {},
   "outputs": [
    {
     "name": "stdout",
     "output_type": "stream",
     "text": [
      "file ../data/sample_file.txt read successfully.\n",
      "Text written successfully\n",
      "Successfully copyed file.\n"
     ]
    }
   ],
   "source": [
    "copy_txt_content(\"../data/sample_file.txt\", \"../data/copy_sample_file.txt\")"
   ]
  },
  {
   "cell_type": "code",
   "execution_count": 7,
   "metadata": {},
   "outputs": [],
   "source": [
    "import os\n",
    "\n",
    "def file_size(file_path:str):\n",
    "    fsz = os.path.getsize(file_path)\n",
    "    fsz = fsz / (1024 * 1024)\n",
    "    print(f\"File size: {fsz}\")"
   ]
  },
  {
   "cell_type": "code",
   "execution_count": 8,
   "metadata": {},
   "outputs": [
    {
     "name": "stdout",
     "output_type": "stream",
     "text": [
      "File size: 0.0010204315185546875\n"
     ]
    }
   ],
   "source": [
    "file_size(\"../data/quotes.txt\")"
   ]
  },
  {
   "cell_type": "code",
   "execution_count": 30,
   "metadata": {},
   "outputs": [],
   "source": [
    "def size_by_chars(file_path:str):\n",
    "    txt = read_text_from_file(file_path)\n",
    "    ch_shz = 0\n",
    "    for char in txt:\n",
    "        ch_shz += len(char.encode())\n",
    "    ch_shz /= (1024 * 1024)\n",
    "    print(f\"{ch_shz} mb\")"
   ]
  },
  {
   "cell_type": "code",
   "execution_count": 45,
   "metadata": {},
   "outputs": [
    {
     "name": "stdout",
     "output_type": "stream",
     "text": [
      "file ../data/quotes.txt read successfully.\n",
      "0.0010280609130859375 mb\n"
     ]
    }
   ],
   "source": [
    "size_by_chars(\"../data/quotes.txt\")"
   ]
  },
  {
   "cell_type": "code",
   "execution_count": 48,
   "metadata": {},
   "outputs": [],
   "source": [
    "def br_linija(file_path:str):\n",
    "    with open(file_path, \"r\") as f:\n",
    "        lines = 0\n",
    "        empty_lines = 0\n",
    "        for line in f:\n",
    "            lines += 1\n",
    "            if len(line.strip()) == 0:\n",
    "                empty_lines += 1\n",
    "        print(lines, \",\", empty_lines)"
   ]
  },
  {
   "cell_type": "code",
   "execution_count": 49,
   "metadata": {},
   "outputs": [
    {
     "name": "stdout",
     "output_type": "stream",
     "text": [
      "16 , 3\n"
     ]
    }
   ],
   "source": [
    "br_linija(\"../data/quotes.txt\")"
   ]
  },
  {
   "cell_type": "code",
   "execution_count": 60,
   "metadata": {},
   "outputs": [],
   "source": [
    "def add_txt_to_file(file_path:str, text:str):\n",
    "    with open(file_path, \"a\") as f:\n",
    "        f.write(text + \"\\n\")\n",
    "    print(\"Success...\")"
   ]
  },
  {
   "cell_type": "code",
   "execution_count": 61,
   "metadata": {},
   "outputs": [
    {
     "name": "stdout",
     "output_type": "stream",
     "text": [
      "Success...\n"
     ]
    }
   ],
   "source": [
    "add_txt_to_file(\"../data/quotes.txt\", \"Jos jedna linija\")"
   ]
  },
  {
   "cell_type": "code",
   "execution_count": 62,
   "metadata": {},
   "outputs": [
    {
     "data": {
      "text/plain": [
       "'../data/dog_2.png'"
      ]
     },
     "execution_count": 62,
     "metadata": {},
     "output_type": "execute_result"
    }
   ],
   "source": [
    "import shutil \n",
    "  \n",
    "shutil.copy(\"../data/dog.png\", \"../data/dog_2.png\") "
   ]
  },
  {
   "cell_type": "code",
   "execution_count": 66,
   "metadata": {},
   "outputs": [],
   "source": [
    "with open(\"../data/dog.png\", \"rb\") as f:\n",
    "    dog = f.read()\n",
    "with open(\"../data/dog_3.png\", \"wb\") as f:\n",
    "    f.write(dog)"
   ]
  },
  {
   "cell_type": "code",
   "execution_count": null,
   "metadata": {},
   "outputs": [],
   "source": []
  }
 ],
 "metadata": {
  "kernelspec": {
   "display_name": "Python 3 (ipykernel)",
   "language": "python",
   "name": "python3"
  },
  "language_info": {
   "codemirror_mode": {
    "name": "ipython",
    "version": 3
   },
   "file_extension": ".py",
   "mimetype": "text/x-python",
   "name": "python",
   "nbconvert_exporter": "python",
   "pygments_lexer": "ipython3",
   "version": "3.12.7"
  }
 },
 "nbformat": 4,
 "nbformat_minor": 4
}
