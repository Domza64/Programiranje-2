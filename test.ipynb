{
 "cells": [
  {
   "cell_type": "code",
   "execution_count": 1,
   "id": "d270ee57-4f53-403d-9834-c943a63f64a0",
   "metadata": {},
   "outputs": [],
   "source": [
    "import matplotlib.pyplot as plt\n",
    "import pandas as pd\n",
    "import numpy as np"
   ]
  },
  {
   "cell_type": "code",
   "execution_count": 2,
   "id": "7e80ffa8-f4bf-4703-a479-930ef7d7e35d",
   "metadata": {},
   "outputs": [
    {
     "name": "stdout",
     "output_type": "stream",
     "text": [
      "vari = 120 | type: <class 'int'>\n"
     ]
    }
   ],
   "source": [
    "vari = 120\n",
    "print(f\"vari = {vari} | type: {type(vari)}\")"
   ]
  },
  {
   "cell_type": "code",
   "execution_count": 3,
   "id": "7864ee6b-8fa1-4a2b-9d92-50cfd18ee1ab",
   "metadata": {},
   "outputs": [],
   "source": [
    "def simple_function(vari=\"neki string\"):\n",
    "    print(f\"vari = {vari} | type: {type(vari)}\")"
   ]
  },
  {
   "cell_type": "code",
   "execution_count": 4,
   "id": "1ffba14a-6a3b-4d40-b0bb-933125bd767f",
   "metadata": {},
   "outputs": [
    {
     "name": "stdout",
     "output_type": "stream",
     "text": [
      "vari = 120 | type: <class 'int'>\n"
     ]
    }
   ],
   "source": [
    "simple_function(vari)"
   ]
  },
  {
   "cell_type": "code",
   "execution_count": 5,
   "id": "aed4ac57-8912-4aa9-93a1-43d194545b19",
   "metadata": {},
   "outputs": [
    {
     "name": "stdout",
     "output_type": "stream",
     "text": [
      "simple_function: <function simple_function at 0x7c8e24bd3560>\n"
     ]
    }
   ],
   "source": [
    "print(f\"simple_function: {simple_function}\")"
   ]
  },
  {
   "cell_type": "code",
   "execution_count": 6,
   "id": "c2abcd17-0514-4890-9642-d6b2193afe03",
   "metadata": {},
   "outputs": [
    {
     "name": "stdout",
     "output_type": "stream",
     "text": [
      "vari = neki string | type: <class 'str'>\n"
     ]
    }
   ],
   "source": [
    "user_funk = simple_function\n",
    "\n",
    "user_funk()"
   ]
  },
  {
   "cell_type": "code",
   "execution_count": 7,
   "id": "eff0727a-cfd1-476b-bf34-f9c0b185902f",
   "metadata": {},
   "outputs": [],
   "source": [
    "def another_funk(lista:list):\n",
    "    for el in lista:\n",
    "        print(f\"vari = {el} | type: {type(el)}\")"
   ]
  },
  {
   "cell_type": "code",
   "execution_count": 8,
   "id": "86645d67-1c9e-4766-90f7-2cb83464d7a8",
   "metadata": {},
   "outputs": [
    {
     "name": "stdout",
     "output_type": "stream",
     "text": [
      "vari = <function simple_function at 0x7c8e24bd3560> | type: <class 'function'>\n",
      "vari = <function simple_function at 0x7c8e24bd3560> | type: <class 'function'>\n",
      "vari = <function another_funk at 0x7c8e249f4ae0> | type: <class 'function'>\n",
      "vari = [1, 2, '3', 4, 5] | type: <class 'list'>\n"
     ]
    }
   ],
   "source": [
    "slist = [1, 2, \"3\", 4, 5]\n",
    "flist = [simple_function, user_funk, another_funk, slist]\n",
    "\n",
    "another_funk(flist)"
   ]
  },
  {
   "cell_type": "code",
   "execution_count": 9,
   "id": "49c208d2-4103-4d0f-b61b-ef9bc45126a4",
   "metadata": {},
   "outputs": [],
   "source": [
    "def sum_numbers(a:int, b:int) -> int:\n",
    "    return a + b"
   ]
  },
  {
   "cell_type": "code",
   "execution_count": 10,
   "id": "90dd90f0-268a-46a0-84ec-9ddd53226e52",
   "metadata": {},
   "outputs": [],
   "source": [
    "def sum_list_elements(slist:list):\n",
    "    res = 0\n",
    "    for el in slist:\n",
    "        res += el\n",
    "    return res"
   ]
  },
  {
   "cell_type": "code",
   "execution_count": 11,
   "id": "cede0123-b908-4451-8b6e-570d2ad7c88f",
   "metadata": {},
   "outputs": [
    {
     "data": {
      "text/plain": [
       "10"
      ]
     },
     "execution_count": 11,
     "metadata": {},
     "output_type": "execute_result"
    }
   ],
   "source": [
    "sum_list_elements([1, 2, 3, 4])"
   ]
  },
  {
   "cell_type": "code",
   "execution_count": 12,
   "id": "2872df9d-f0c5-4ccc-a942-ec27e62d4b02",
   "metadata": {},
   "outputs": [],
   "source": [
    "numbers = [[2, 3, 4], [10, 12, 13], [23, 33, 44, -321]]"
   ]
  },
  {
   "cell_type": "code",
   "execution_count": 13,
   "id": "dc0b40a4-6d7e-48b5-a70e-a045f819833e",
   "metadata": {},
   "outputs": [],
   "source": [
    "def sum_lists_elements_2(sum_list_elements, nums:list):\n",
    "    res = [sum_list_elements(el) for el in nums]\n",
    "    print(res)"
   ]
  },
  {
   "cell_type": "code",
   "execution_count": 14,
   "id": "275c4355-0db3-420e-b151-19c972b34330",
   "metadata": {},
   "outputs": [
    {
     "name": "stdout",
     "output_type": "stream",
     "text": [
      "[9, 35, -221]\n"
     ]
    }
   ],
   "source": [
    "sum_lists_elements_2(sum_list_elements, numbers)"
   ]
  },
  {
   "cell_type": "code",
   "execution_count": 15,
   "id": "fd185ffb-d26c-42d4-8d8c-8c8d7dd30204",
   "metadata": {},
   "outputs": [],
   "source": [
    "elements = [230, 45, 56, 12, 2, -12, 5, 3]"
   ]
  },
  {
   "cell_type": "code",
   "execution_count": 16,
   "id": "caf6c779-ec5b-4d26-bbfb-073e582cfe44",
   "metadata": {},
   "outputs": [],
   "source": [
    "def some_funk(funk, elements):\n",
    "    print([funk(el) for el in elements])"
   ]
  },
  {
   "cell_type": "code",
   "execution_count": 17,
   "id": "bbc61c69-89bc-4119-b176-037ba2430cfb",
   "metadata": {},
   "outputs": [
    {
     "name": "stdout",
     "output_type": "stream",
     "text": [
      "[52900, 2025, 3136, 144, 4, 144, 25, 9]\n",
      "--------------------\n",
      "[12167000, 91125, 175616, 1728, 8, -1728, 125, 27]\n"
     ]
    }
   ],
   "source": [
    "from my_module import *\n",
    "\n",
    "some_funk(square_oper, elements)\n",
    "print(\"-\"*20)\n",
    "some_funk(cube_oper, elements)"
   ]
  },
  {
   "cell_type": "code",
   "execution_count": 21,
   "id": "1450d316-508a-4866-81de-871019fc34cf",
   "metadata": {},
   "outputs": [],
   "source": [
    "def multiplication_by_factor(factor_val):\n",
    "    def multiply_val(val):\n",
    "        res = val * factor_val\n",
    "        return res\n",
    "    return multiply_val"
   ]
  },
  {
   "cell_type": "code",
   "execution_count": 22,
   "id": "5f09f541-b4ee-4feb-a031-194ba0070bb2",
   "metadata": {},
   "outputs": [],
   "source": [
    "multiplication = multiplication_by_factor(2)"
   ]
  },
  {
   "cell_type": "code",
   "execution_count": 23,
   "id": "8af8775e-693d-4326-92ea-67ecd5f29d52",
   "metadata": {},
   "outputs": [
    {
     "name": "stdout",
     "output_type": "stream",
     "text": [
      "8\n"
     ]
    }
   ],
   "source": [
    "res = multiplication(4)\n",
    "print(res)"
   ]
  },
  {
   "cell_type": "code",
   "execution_count": null,
   "id": "5a03372c-a872-4583-8310-b6a1c97bfbb5",
   "metadata": {},
   "outputs": [],
   "source": []
  }
 ],
 "metadata": {
  "kernelspec": {
   "display_name": "Python 3 (ipykernel)",
   "language": "python",
   "name": "python3"
  },
  "language_info": {
   "codemirror_mode": {
    "name": "ipython",
    "version": 3
   },
   "file_extension": ".py",
   "mimetype": "text/x-python",
   "name": "python",
   "nbconvert_exporter": "python",
   "pygments_lexer": "ipython3",
   "version": "3.11.11"
  }
 },
 "nbformat": 4,
 "nbformat_minor": 5
}
