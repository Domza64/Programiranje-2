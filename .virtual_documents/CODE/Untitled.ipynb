class Student:

    def __init__(self, name, yos):
        self.name = name
        self.yos = yos

    def student_info(self):
        print(f"Student name: {self.name}, year of study: {self.yos}")

    def __str__(self):
        return f"Student: {self.name} - year of study: {self.yos}"


class Course:

    def __init__(self, course_name, max_student):
        self.course_name = course_name
        self.max_student = max_student
        self.students = []
        self.grades = {}

    def add_student_to_course(self, student:Student):
        if len(self.students) >= self.max_student:
            print(f"Course is full ({len(self.students)}/{self.max_student}). Student not added.")
        elif student in self.students:
            print(f"Student {student.name} is already enrolled. Student not added.")
        else:
            self.students.append(student)
            print(f"{student.name} added to {self.course_name}")

    def print_all_enroled_students(self):
        for student in self.students:
            print(student)

    def add_grade_to_student(self, student:Student, grade:int):
        if student in self.students:
            self.grades[student] = grade
            print(f"Grade added to student: {student.name}")
        else:
            print(f"Student {student.name} is not enrolled to this class.")

    def print_all_grades(self):
        for student, grade in self.grades.items():
            print(f"{student.name} - {grade}")

    def get_average_grade(self):
        grades = self.grades.values()
        return sum(grades) / len(grades)
        


student1 = Student("Nera", 1)
student2 = Student("Eli", 3)

course = Course("CS-101", 10)

course.add_student_to_course(student1)
course.add_student_to_course(student1)

course.add_grade_to_student(student1, 3)
course.add_grade_to_student(student2, 5)

print(course.get_average_grade())

#for i in range(12):
#    course.add_student_to_course(Student("aa", i))

course.print_all_grades()

course.print_all_enroled_students()


def check_object(obj):
    print(type(obj))
    print(obj.__dict__)
    print(f"Location: {hex(id(obj))}")


check_object(student1)


import datetime
from random import randrange

def gen_dob(start_year = 1990, end_year = 2005):
    start = datetime.date(start_year, 1, 1)
    end = datetime.date(end_year, 1, 1)
    elapsed = end - start
    days_between = elapsed.days
    rand_num_days = randrange(days_between)
    dat_random = start + datetime.timedelta(days=rand_num_days)
    return dat_random
    


class Person:
    CNT = 10

    def __init__(self, name):
        self.__name = name
        self.__dob = str(gen_dob())
        self.__id = Person.CNT
        Person.CNT += 1

    def __str__(self):
        return f"Name: {self.name}, date of birth: {self.dob}, id: {self.id}"


person1 = Person("Nera")
person2 = Person("Nera 2")


print("a", person1)
print("test")
print(person2)



