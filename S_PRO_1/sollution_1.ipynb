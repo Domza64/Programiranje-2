{
 "cells": [
  {
   "cell_type": "code",
   "execution_count": 39,
   "metadata": {},
   "outputs": [
    {
     "name": "stdout",
     "output_type": "stream",
     "text": [
      "[('massd', 'aaa'), ('Bob', 'tesdt')]\n"
     ]
    }
   ],
   "source": [
    "def read_all(path: str) -> list:\n",
    "    with open(path, \"r\", encoding=\"utf-8\") as file:\n",
    "        content = file.read()\n",
    "    return content\n",
    "\n",
    "def read_lines(path: str) -> list:\n",
    "    with open(path, \"r\", encoding=\"utf-8\") as file:\n",
    "        content = file.readlines()\n",
    "    return(content)\n",
    "\n",
    "def print_list_content(lst: list):\n",
    "    for item in lst:\n",
    "        print(item)\n",
    "\n",
    "def create_dictionary_person_quotes(lst: list):\n",
    "    quotes = dict()\n",
    "    for line in lst:\n",
    "        key, content = line.split(\" - \", 1)\n",
    "        content = content.strip()\n",
    "        if key not in quotes.keys():\n",
    "            quotes[key] = [content]\n",
    "        else:\n",
    "            quotes[key].append(content)\n",
    "    return quotes\n",
    "\n",
    "def clear_strings_in_touples(lst: list):\n",
    "    for index, tpl in enumerate(lst):\n",
    "        person, quote = tpl\n",
    "        lst[index] = (person.strip(), quote.strip())\n",
    "    return lst\n",
    "\n",
    "print(clear_strings_in_touples([(\"  massd  \", \"aaa  \"), (\"  Bob  \", \"  tesdt  \")]))\n",
    "        \n",
    "\n",
    "def print_quotes_dict(quotes_dict: dict):\n",
    "    for key, items in quotes_dict.items():\n",
    "        print(f\"Person: {key} has {len(items)} quote{\"s\" if len(items) > 1 else \"\"}, they are: {items}\")\n"
   ]
  },
  {
   "cell_type": "code",
   "execution_count": 31,
   "metadata": {},
   "outputs": [
    {
     "name": "stdout",
     "output_type": "stream",
     "text": [
      "Person: Albert Einstein has 3 quotes, they are: [\"Two things are infinite: the universe and human stupidity; and I'm not sure about the universe.\", 'The difference between stupidity and genius is that genius has its limits.', \"We can't solve today's problems with the mentality that created them.\"]\n",
      "Person: Frank Zappa has 1 quote, they are: ['So many books, so little time.']\n",
      "Person: Marcus Tullius Cicero has 1 quote, they are: ['A room without books is like a body without a soul.']\n",
      "Person: Ernest Hemingway has 1 quote, they are: ['But man is not made for defeat. A man can be destroyed but not defeated.']\n",
      "Person: Heraclitus has 1 quote, they are: ['There is nothing permanent except change.']\n",
      "Person: Leonardo da Vinci has 4 quotes, they are: ['Learning never exhausts the mind.', 'Experience is a truer guide than the words of others.', 'Your brain is much better than you think; just use it!', 'To be a winner you must want to win but must know of the chance of losing and must not fear of it.']\n",
      "Person: Nikola Tesla has 2 quotes, they are: ['Be alone, that is the secret of invention; be alone, that is when ideas are born.', 'The present is theirs; the future, for which I really worked, is mine.']\n"
     ]
    }
   ],
   "source": [
    "lines = read_lines(\"../data/quotes.txt\")\n",
    "quotes_dict = create_dictionary_person_quotes(lines)\n",
    "print_quotes_dict(quotes_dict)\n"
   ]
  },
  {
   "cell_type": "code",
   "execution_count": 32,
   "metadata": {},
   "outputs": [
    {
     "name": "stdout",
     "output_type": "stream",
     "text": [
      "Albert Einstein - Two things are infinite: the universe and human stupidity; and I'm not sure about the universe. \n",
      "\n",
      "Albert Einstein - The difference between stupidity and genius is that genius has its limits.\n",
      "\n",
      "Albert Einstein - We can't solve today's problems with the mentality that created them.\n",
      "\n",
      "Frank Zappa - So many books, so little time. \n",
      "\n",
      "Marcus Tullius Cicero - A room without books is like a body without a soul.\n",
      "\n",
      "Ernest Hemingway - But man is not made for defeat. A man can be destroyed but not defeated.\n",
      "\n",
      "Heraclitus - There is nothing permanent except change.\n",
      "\n",
      "Leonardo da Vinci - Learning never exhausts the mind.\n",
      "\n",
      "Leonardo da Vinci - Experience is a truer guide than the words of others.\n",
      "\n",
      "Leonardo da Vinci - Your brain is much better than you think; just use it!\n",
      "\n",
      "Leonardo da Vinci - To be a winner you must want to win but must know of the chance of losing and must not fear of it.\n",
      "\n",
      "Nikola Tesla - Be alone, that is the secret of invention; be alone, that is when ideas are born.\n",
      "\n",
      "Nikola Tesla - The present is theirs; the future, for which I really worked, is mine.\n",
      "\n"
     ]
    }
   ],
   "source": [
    "print_list_content(lines)"
   ]
  }
 ],
 "metadata": {
  "kernelspec": {
   "display_name": "Python 3",
   "language": "python",
   "name": "python3"
  },
  "language_info": {
   "codemirror_mode": {
    "name": "ipython",
    "version": 3
   },
   "file_extension": ".py",
   "mimetype": "text/x-python",
   "name": "python",
   "nbconvert_exporter": "python",
   "pygments_lexer": "ipython3",
   "version": "3.13.2"
  }
 },
 "nbformat": 4,
 "nbformat_minor": 2
}
